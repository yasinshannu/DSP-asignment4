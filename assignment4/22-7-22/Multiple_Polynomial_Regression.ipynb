{
 "cells": [
  {
   "cell_type": "code",
   "execution_count": 1,
   "id": "32eb2fd7",
   "metadata": {},
   "outputs": [],
   "source": [
    "#Packages And Librarys\n",
    "import pandas as pd\n",
    "import numpy as np\n",
    "from sklearn.linear_model import LinearRegression\n",
    "from sklearn.preprocessing import PolynomialFeatures"
   ]
  },
  {
   "cell_type": "code",
   "execution_count": 2,
   "id": "1c20db0c",
   "metadata": {},
   "outputs": [],
   "source": [
    "#Taking Data\n",
    "x=np.array([[1,2],[2,5],[3,9],[4,13],[5,17]])\n",
    "y=np.array([3,1,5,9,6])"
   ]
  },
  {
   "cell_type": "code",
   "execution_count": 3,
   "id": "5bac5b8b",
   "metadata": {},
   "outputs": [
    {
     "name": "stdout",
     "output_type": "stream",
     "text": [
      "[[  1.   2.   1.   2.   4.]\n",
      " [  2.   5.   4.  10.  25.]\n",
      " [  3.   9.   9.  27.  81.]\n",
      " [  4.  13.  16.  52. 169.]\n",
      " [  5.  17.  25.  85. 289.]]\n"
     ]
    }
   ],
   "source": [
    "T=PolynomialFeatures(degree=2,include_bias=False)\n",
    "T.fit(x)\n",
    "x_=T.transform(x)\n",
    "model=LinearRegression(fit_intercept=False).fit(x_,y)\n",
    "print(x_)"
   ]
  },
  {
   "cell_type": "code",
   "execution_count": 4,
   "id": "9b52f64e",
   "metadata": {},
   "outputs": [],
   "source": [
    "y_pre=model.predict(x_)"
   ]
  },
  {
   "cell_type": "code",
   "execution_count": 5,
   "id": "2aa003ab",
   "metadata": {},
   "outputs": [
    {
     "name": "stdout",
     "output_type": "stream",
     "text": [
      "Predict Score:  1.0\n",
      "Normal Score :  0.9334239130434787\n"
     ]
    }
   ],
   "source": [
    "print(\"Predict Score: \",model.score(x_,y_pre))\n",
    "print(\"Normal Score : \",model.score(x_,y))"
   ]
  },
  {
   "cell_type": "code",
   "execution_count": 6,
   "id": "b460d62c",
   "metadata": {},
   "outputs": [
    {
     "name": "stdout",
     "output_type": "stream",
     "text": [
      "[3.   0.65 6.05 7.95 6.35]\n",
      "[3 1 5 9 6]\n"
     ]
    }
   ],
   "source": [
    "print(y_pre)\n",
    "print(y)"
   ]
  },
  {
   "cell_type": "code",
   "execution_count": 7,
   "id": "3c360f33",
   "metadata": {},
   "outputs": [
    {
     "name": "stdout",
     "output_type": "stream",
     "text": [
      "b0:  0.0\n",
      "b1:  [ -6.75936073  10.12134703 -10.58196347  -2.10936073   1.0793379 ]\n",
      "Rechecked Y predict Values :  [3.   0.65 6.05 7.95 6.35]\n"
     ]
    }
   ],
   "source": [
    "print(\"b0: \",model.intercept_)\n",
    "print(\"b1: \",model.coef_)\n",
    "y_rc=model.intercept_+np.sum(model.coef_*x_,axis=1)\n",
    "print(\"Rechecked Y predict Values : \",y_rc)"
   ]
  },
  {
   "cell_type": "code",
   "execution_count": null,
   "id": "c8c9b857",
   "metadata": {},
   "outputs": [],
   "source": []
  },
  {
   "cell_type": "code",
   "execution_count": null,
   "id": "1b48ce63",
   "metadata": {},
   "outputs": [],
   "source": []
  }
 ],
 "metadata": {
  "kernelspec": {
   "display_name": "Python 3 (ipykernel)",
   "language": "python",
   "name": "python3"
  },
  "language_info": {
   "codemirror_mode": {
    "name": "ipython",
    "version": 3
   },
   "file_extension": ".py",
   "mimetype": "text/x-python",
   "name": "python",
   "nbconvert_exporter": "python",
   "pygments_lexer": "ipython3",
   "version": "3.9.7"
  }
 },
 "nbformat": 4,
 "nbformat_minor": 5
}
