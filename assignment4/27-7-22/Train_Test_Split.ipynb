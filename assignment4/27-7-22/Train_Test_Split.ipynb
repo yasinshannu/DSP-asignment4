{
 "cells": [
  {
   "cell_type": "code",
   "execution_count": 1,
   "id": "b4dcca7d",
   "metadata": {},
   "outputs": [],
   "source": [
    "import pandas as pd\n",
    "import numpy as np\n",
    "from sklearn.linear_model import LinearRegression\n",
    "from sklearn.model_selection import train_test_split"
   ]
  },
  {
   "cell_type": "code",
   "execution_count": 2,
   "id": "d70e6199",
   "metadata": {},
   "outputs": [],
   "source": [
    "X=np.array([1,2,3,4,5,6,7,8,9,10]).reshape(-1,1)\n",
    "Y=np.array([1,4,9,16,25,36,49,77,92,111])\n",
    "x_train,x_test,y_train,y_test=train_test_split(X,Y)"
   ]
  },
  {
   "cell_type": "code",
   "execution_count": 3,
   "id": "ea4e66aa",
   "metadata": {},
   "outputs": [
    {
     "data": {
      "text/plain": [
       "LinearRegression()"
      ]
     },
     "execution_count": 3,
     "metadata": {},
     "output_type": "execute_result"
    }
   ],
   "source": [
    "model=LinearRegression()\n",
    "model.fit(x_train,y_train)"
   ]
  },
  {
   "cell_type": "code",
   "execution_count": 4,
   "id": "a5460aee",
   "metadata": {},
   "outputs": [
    {
     "name": "stdout",
     "output_type": "stream",
     "text": [
      "X Train [[ 9]\n",
      " [ 3]\n",
      " [ 8]\n",
      " [ 7]\n",
      " [ 1]\n",
      " [ 6]\n",
      " [10]]\n",
      "X Test [[4]\n",
      " [5]\n",
      " [2]]\n",
      "Y Train [ 92   9  77  49   1  36 111]\n",
      "Y Test [16 25  4]\n"
     ]
    }
   ],
   "source": [
    "print(\"X Train\",x_train)\n",
    "print(\"X Test\",x_test)\n",
    "print(\"Y Train\",y_train)\n",
    "print(\"Y Test\",y_test)"
   ]
  },
  {
   "cell_type": "code",
   "execution_count": 5,
   "id": "4ed9b6ef",
   "metadata": {},
   "outputs": [],
   "source": [
    "x_new=np.array([11,12,13,14]).reshape(-1,1)\n",
    "y_new=model.predict(x_new)"
   ]
  },
  {
   "cell_type": "code",
   "execution_count": 6,
   "id": "ba3eeaa1",
   "metadata": {},
   "outputs": [
    {
     "name": "stdout",
     "output_type": "stream",
     "text": [
      "New Data Predict Score : 1.0\n",
      "Test Data Score : -0.16798219421028193\n",
      "Train Data Score : 0.9311089334741601\n"
     ]
    }
   ],
   "source": [
    "print(\"New Data Predict Score :\",model.score(x_new,y_new))\n",
    "print(\"Test Data Score :\",model.score(x_test,y_test))\n",
    "print(\"Train Data Score :\",model.score(x_train,y_train))"
   ]
  },
  {
   "cell_type": "code",
   "execution_count": 7,
   "id": "49cf38b1",
   "metadata": {},
   "outputs": [
    {
     "data": {
      "text/plain": [
       "array([111.83108108, 124.18918919, 136.5472973 , 148.90540541])"
      ]
     },
     "execution_count": 7,
     "metadata": {},
     "output_type": "execute_result"
    }
   ],
   "source": [
    "y_new"
   ]
  }
 ],
 "metadata": {
  "kernelspec": {
   "display_name": "Python 3 (ipykernel)",
   "language": "python",
   "name": "python3"
  },
  "language_info": {
   "codemirror_mode": {
    "name": "ipython",
    "version": 3
   },
   "file_extension": ".py",
   "mimetype": "text/x-python",
   "name": "python",
   "nbconvert_exporter": "python",
   "pygments_lexer": "ipython3",
   "version": "3.9.7"
  }
 },
 "nbformat": 4,
 "nbformat_minor": 5
}
